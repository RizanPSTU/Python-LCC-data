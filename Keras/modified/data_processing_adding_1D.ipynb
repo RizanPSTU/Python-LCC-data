{
 "cells": [
  {
   "cell_type": "code",
   "execution_count": 29,
   "metadata": {},
   "outputs": [],
   "source": [
    "import cv2\n",
    "import numpy as np\n",
    "import os\n",
    "import glob"
   ]
  },
  {
   "cell_type": "code",
   "execution_count": 30,
   "metadata": {},
   "outputs": [],
   "source": [
    "#cd D:"
   ]
  },
  {
   "cell_type": "code",
   "execution_count": 31,
   "metadata": {},
   "outputs": [
    {
     "name": "stdout",
     "output_type": "stream",
     "text": [
      "C:\\Users\\Velocity_carbon\n"
     ]
    }
   ],
   "source": [
    "cd"
   ]
  },
  {
   "cell_type": "code",
   "execution_count": 32,
   "metadata": {},
   "outputs": [],
   "source": [
    "#cd D:\\Python LCC data\\Keras"
   ]
  },
  {
   "cell_type": "code",
   "execution_count": 33,
   "metadata": {},
   "outputs": [
    {
     "name": "stdout",
     "output_type": "stream",
     "text": [
      "95126\n",
      "95126\n"
     ]
    }
   ],
   "source": [
    "with open('D:\\\\Python LCC data\\\\time.txt') as f:\n",
    "    my_times = f.readlines()\n",
    "\n",
    "time = my_times[0]\n",
    "time = time.replace(':','')\n",
    "time = time.replace('\\n','')\n",
    "print(int(time))\n",
    "time = np.int64(time)\n",
    "print(time)"
   ]
  },
  {
   "cell_type": "code",
   "execution_count": 34,
   "metadata": {},
   "outputs": [
    {
     "name": "stdout",
     "output_type": "stream",
     "text": [
      "838\n"
     ]
    }
   ],
   "source": [
    "#select the path 1\n",
    "path = \"D:\\\\Python LCC data\\\\Keras\\\\1\\\\*.*\"\n",
    "save = 'D:\\\\Python LCC data\\\\Keras\\\\modified\\\\npsave\\\\L1\\\\'\n",
    "save_jpg =\"D:\\\\Python LCC data\\\\Keras\\\\modified\\\\jpg_of_np\\\\1\"\n",
    "count =0\n",
    "for file in sorted(glob.glob(path), key=os.path.getmtime):\n",
    "    img= cv2.imread(file)\n",
    "    img=img.astype(np.int64)\n",
    "    time = my_times[count]\n",
    "    time = time.replace(':','')\n",
    "    time = time.replace('\\n','')\n",
    "    time = np.int64(time)\n",
    "    x,y,c=img.shape\n",
    "    nd=np.full((x, y), time)\n",
    "    img_m=np.dstack((img,nd))\n",
    "    main_save = save +str(count)+ \".jpg\"\n",
    "    np.save(main_save, img_m) \n",
    "    dst =   save_jpg+\"\\\\\"+str(count) + \"\" + \".jpg\"\n",
    "    src =  save + str(count) + \".jpg.npy\"\n",
    "    #os.rename(src, dst)\n",
    "        \n",
    "    count=count+1\n",
    "\n",
    "print(count)"
   ]
  },
  {
   "cell_type": "code",
   "execution_count": 35,
   "metadata": {},
   "outputs": [
    {
     "name": "stdout",
     "output_type": "stream",
     "text": [
      "838\n"
     ]
    }
   ],
   "source": [
    "#select the path 2\n",
    "path = \"D:\\\\Python LCC data\\\\Keras\\\\2\\\\*.*\"\n",
    "save = 'D:\\\\Python LCC data\\\\Keras\\\\modified\\\\npsave\\\\L2\\\\'\n",
    "save_jpg =\"D:\\\\Python LCC data\\\\Keras\\\\modified\\\\jpg_of_np\\\\2\"\n",
    "count =0\n",
    "for file in sorted(glob.glob(path), key=os.path.getmtime):\n",
    "    img= cv2.imread(file)\n",
    "    img=img.astype(np.int64)\n",
    "    time = my_times[count]\n",
    "    time = time.replace(':','')\n",
    "    time = time.replace('\\n','')\n",
    "    time = np.int64(time)\n",
    "    x,y,c=img.shape\n",
    "    nd=np.full((x, y), time)\n",
    "    img_m=np.dstack((img,nd))\n",
    "    main_save = save +str(count)+ \".jpg\"\n",
    "    np.save(main_save, img_m) \n",
    "    dst =   save_jpg+\"\\\\\"+str(count) + \"\" + \".jpg\"\n",
    "    src =  save + str(count) + \".jpg.npy\"\n",
    "    #os.rename(src, dst)\n",
    "        \n",
    "    count=count+1\n",
    "\n",
    "print(count)"
   ]
  },
  {
   "cell_type": "code",
   "execution_count": 36,
   "metadata": {},
   "outputs": [
    {
     "name": "stdout",
     "output_type": "stream",
     "text": [
      "838\n"
     ]
    }
   ],
   "source": [
    "#select the path 3\n",
    "path = \"D:\\\\Python LCC data\\\\Keras\\\\3\\\\*.*\"\n",
    "save = 'D:\\\\Python LCC data\\\\Keras\\\\modified\\\\npsave\\\\L3\\\\'\n",
    "save_jpg =\"D:\\\\Python LCC data\\\\Keras\\\\modified\\\\jpg_of_np\\\\3\"\n",
    "count =0\n",
    "for file in sorted(glob.glob(path), key=os.path.getmtime):\n",
    "    img= cv2.imread(file)\n",
    "    img=img.astype(np.int64)\n",
    "    time = my_times[count]\n",
    "    time = time.replace(':','')\n",
    "    time = time.replace('\\n','')\n",
    "    time = np.int64(time)\n",
    "    x,y,c=img.shape\n",
    "    nd=np.full((x, y), time)\n",
    "    img_m=np.dstack((img,nd))\n",
    "    main_save = save +str(count)+ \".jpg\"\n",
    "    np.save(main_save, img_m) \n",
    "    dst =   save_jpg+\"\\\\\"+str(count) + \"\" + \".jpg\"\n",
    "    src =  save + str(count) + \".jpg.npy\"\n",
    "    #os.rename(src, dst)\n",
    "        \n",
    "    count=count+1\n",
    "\n",
    "print(count)"
   ]
  },
  {
   "cell_type": "code",
   "execution_count": 37,
   "metadata": {},
   "outputs": [
    {
     "name": "stdout",
     "output_type": "stream",
     "text": [
      "838\n"
     ]
    }
   ],
   "source": [
    "#select the path 4\n",
    "path = \"D:\\\\Python LCC data\\\\Keras\\\\4\\\\*.*\"\n",
    "save = 'D:\\\\Python LCC data\\\\Keras\\\\modified\\\\npsave\\\\L4\\\\'\n",
    "save_jpg =\"D:\\\\Python LCC data\\\\Keras\\\\modified\\\\jpg_of_np\\\\4\"\n",
    "count =0\n",
    "for file in sorted(glob.glob(path), key=os.path.getmtime):\n",
    "    img= cv2.imread(file)\n",
    "    img=img.astype(np.int64)\n",
    "    time = my_times[count]\n",
    "    time = time.replace(':','')\n",
    "    time = time.replace('\\n','')\n",
    "    time = np.int64(time)\n",
    "    x,y,c=img.shape\n",
    "    nd=np.full((x, y), time)\n",
    "    img_m=np.dstack((img,nd))\n",
    "    main_save = save +str(count)+ \".jpg\"\n",
    "    np.save(main_save, img_m) \n",
    "    dst =   save_jpg+\"\\\\\"+str(count) + \"\" + \".jpg\"\n",
    "    src =  save + str(count) + \".jpg.npy\"\n",
    "    #os.rename(src, dst)\n",
    "        \n",
    "    count=count+1\n",
    "\n",
    "print(count)"
   ]
  },
  {
   "cell_type": "code",
   "execution_count": 38,
   "metadata": {},
   "outputs": [
    {
     "data": {
      "text/plain": [
       "838"
      ]
     },
     "execution_count": 38,
     "metadata": {},
     "output_type": "execute_result"
    }
   ],
   "source": [
    "count\n",
    "#Test the new dimention\n",
    "#     for i in range(0,x):\n",
    "#         for j in range(0,y):\n",
    "#             r,g,b,t = img_m[i,j]\n",
    "#             if t != time:\n",
    "#                 print('prob ase')\n",
    "#             if t == time:\n",
    "#                 print('prob nai')"
   ]
  },
  {
   "cell_type": "code",
   "execution_count": 39,
   "metadata": {},
   "outputs": [
    {
     "data": {
      "text/plain": [
       "(120, 70, 4)"
      ]
     },
     "execution_count": 39,
     "metadata": {},
     "output_type": "execute_result"
    }
   ],
   "source": [
    "img_m.shape"
   ]
  },
  {
   "cell_type": "code",
   "execution_count": 40,
   "metadata": {},
   "outputs": [],
   "source": [
    "#np.save('D:\\\\Python LCC data\\\\Keras\\\\modified\\\\m.jpg', img_m)"
   ]
  },
  {
   "cell_type": "code",
   "execution_count": 41,
   "metadata": {},
   "outputs": [],
   "source": [
    "img_test = np.load('D:\\\\Python LCC data\\\\Keras\\\\modified\\\\npsave\\\\1\\\\1.jpg.npy')"
   ]
  },
  {
   "cell_type": "code",
   "execution_count": 42,
   "metadata": {},
   "outputs": [
    {
     "data": {
      "text/plain": [
       "(120, 70, 4)"
      ]
     },
     "execution_count": 42,
     "metadata": {},
     "output_type": "execute_result"
    }
   ],
   "source": [
    "img_test.shape"
   ]
  },
  {
   "cell_type": "code",
   "execution_count": 43,
   "metadata": {},
   "outputs": [],
   "source": [
    "img_test = np.load('D:\\\\Python LCC data\\\\Keras\\\\modified\\\\npsave\\\\2\\\\1.jpg.npy')"
   ]
  },
  {
   "cell_type": "code",
   "execution_count": 44,
   "metadata": {},
   "outputs": [
    {
     "data": {
      "text/plain": [
       "(120, 70, 4)"
      ]
     },
     "execution_count": 44,
     "metadata": {},
     "output_type": "execute_result"
    }
   ],
   "source": [
    "img_test.shape"
   ]
  },
  {
   "cell_type": "code",
   "execution_count": 45,
   "metadata": {},
   "outputs": [],
   "source": [
    "img_test = np.load('D:\\\\Python LCC data\\\\Keras\\\\modified\\\\npsave\\\\3\\\\1.jpg.npy')"
   ]
  },
  {
   "cell_type": "code",
   "execution_count": 46,
   "metadata": {},
   "outputs": [
    {
     "data": {
      "text/plain": [
       "(120, 70, 4)"
      ]
     },
     "execution_count": 46,
     "metadata": {},
     "output_type": "execute_result"
    }
   ],
   "source": [
    "img_test.shape"
   ]
  },
  {
   "cell_type": "code",
   "execution_count": 47,
   "metadata": {},
   "outputs": [],
   "source": [
    "img_test = np.load('D:\\\\Python LCC data\\\\Keras\\\\modified\\\\npsave\\\\4\\\\1.jpg.npy')"
   ]
  },
  {
   "cell_type": "code",
   "execution_count": 48,
   "metadata": {},
   "outputs": [
    {
     "data": {
      "text/plain": [
       "(120, 70, 4)"
      ]
     },
     "execution_count": 48,
     "metadata": {},
     "output_type": "execute_result"
    }
   ],
   "source": [
    "img_test.shape"
   ]
  }
 ],
 "metadata": {
  "kernelspec": {
   "display_name": "Python 3",
   "language": "python",
   "name": "python3"
  },
  "language_info": {
   "codemirror_mode": {
    "name": "ipython",
    "version": 3
   },
   "file_extension": ".py",
   "mimetype": "text/x-python",
   "name": "python",
   "nbconvert_exporter": "python",
   "pygments_lexer": "ipython3",
   "version": "3.7.1"
  }
 },
 "nbformat": 4,
 "nbformat_minor": 2
}
