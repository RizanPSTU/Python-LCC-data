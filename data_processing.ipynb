{
 "cells": [
  {
   "cell_type": "code",
   "execution_count": 67,
   "metadata": {},
   "outputs": [],
   "source": [
    "import cv2\n",
    "import numpy as np\n",
    "import os"
   ]
  },
  {
   "cell_type": "code",
   "execution_count": 68,
   "metadata": {},
   "outputs": [
    {
     "name": "stdout",
     "output_type": "stream",
     "text": [
      "D:\\Python LCC data\\Keras\n"
     ]
    }
   ],
   "source": [
    "cd D:"
   ]
  },
  {
   "cell_type": "code",
   "execution_count": 69,
   "metadata": {},
   "outputs": [
    {
     "name": "stdout",
     "output_type": "stream",
     "text": [
      "D:\\Python LCC data\\Keras\n"
     ]
    }
   ],
   "source": [
    "cd D:\\Python LCC data\\Keras"
   ]
  },
  {
   "cell_type": "code",
   "execution_count": null,
   "metadata": {},
   "outputs": [],
   "source": [
    "path = \"D:\\Python LCC data\\Keras\\1\\*.*\"\n",
    "count =0\n",
    "\n",
    "for file in sorted(glob.glob(path), key=os.path.getmtime):\n",
    "    print(file)\n",
    "    count=count+1\n"
   ]
  },
  {
   "cell_type": "code",
   "execution_count": 70,
   "metadata": {},
   "outputs": [
    {
     "name": "stdout",
     "output_type": "stream",
     "text": [
      "95126\n",
      "95126\n"
     ]
    }
   ],
   "source": [
    "with open('D:\\\\Python LCC data\\\\time.txt') as f:\n",
    "    my_times = f.readlines()\n",
    "time = my_times[0]\n",
    "time = time.replace(':','')\n",
    "time = time.replace('\\n','')\n",
    "print(int(time))\n",
    "time = np.int64(time)\n",
    "print(time)"
   ]
  },
  {
   "cell_type": "code",
   "execution_count": 71,
   "metadata": {},
   "outputs": [],
   "source": [
    "img = cv2.imread('D:\\\\Python LCC data\\\\Keras\\\\1\\\\1h09m51s26L1.jpg')\n",
    "img=img.astype(np.int64)"
   ]
  },
  {
   "cell_type": "code",
   "execution_count": 72,
   "metadata": {},
   "outputs": [
    {
     "name": "stdout",
     "output_type": "stream",
     "text": [
      "120 70 3\n"
     ]
    }
   ],
   "source": [
    "x,y,c=img.shape\n",
    "print(x,y,c)"
   ]
  },
  {
   "cell_type": "code",
   "execution_count": 73,
   "metadata": {},
   "outputs": [
    {
     "data": {
      "text/plain": [
       "array([245, 255,  19], dtype=int64)"
      ]
     },
     "execution_count": 73,
     "metadata": {},
     "output_type": "execute_result"
    }
   ],
   "source": [
    "img[1,1]"
   ]
  },
  {
   "cell_type": "code",
   "execution_count": 74,
   "metadata": {},
   "outputs": [
    {
     "data": {
      "text/plain": [
       "array([95126, 95126, 95126, 95126, 95126, 95126, 95126, 95126, 95126,\n",
       "       95126, 95126, 95126, 95126, 95126, 95126, 95126, 95126, 95126,\n",
       "       95126, 95126, 95126, 95126, 95126, 95126, 95126, 95126, 95126,\n",
       "       95126, 95126, 95126, 95126, 95126, 95126, 95126, 95126, 95126,\n",
       "       95126, 95126, 95126, 95126, 95126, 95126, 95126, 95126, 95126,\n",
       "       95126, 95126, 95126, 95126, 95126, 95126, 95126, 95126, 95126,\n",
       "       95126, 95126, 95126, 95126, 95126, 95126, 95126, 95126, 95126,\n",
       "       95126, 95126, 95126, 95126, 95126, 95126, 95126], dtype=int64)"
      ]
     },
     "execution_count": 74,
     "metadata": {},
     "output_type": "execute_result"
    }
   ],
   "source": [
    "#nd = np.empty(x,y)\n",
    "#nd = nd.fill(time)\n",
    "nd=np.full((x, y), time)\n",
    "nd[1]"
   ]
  },
  {
   "cell_type": "code",
   "execution_count": 75,
   "metadata": {},
   "outputs": [],
   "source": [
    "img_m=np.dstack((img,nd))"
   ]
  },
  {
   "cell_type": "code",
   "execution_count": 76,
   "metadata": {},
   "outputs": [],
   "source": [
    "#Test the new dimention\n",
    "for i in range(0,x):\n",
    "    for j in range(0,y):\n",
    "        r,g,b,t = img_m[i,j]\n",
    "        if t != time:\n",
    "            print('prob ase')\n"
   ]
  },
  {
   "cell_type": "code",
   "execution_count": 77,
   "metadata": {},
   "outputs": [
    {
     "data": {
      "text/plain": [
       "(120, 70, 4)"
      ]
     },
     "execution_count": 77,
     "metadata": {},
     "output_type": "execute_result"
    }
   ],
   "source": [
    "img_m.shape"
   ]
  },
  {
   "cell_type": "code",
   "execution_count": 78,
   "metadata": {},
   "outputs": [],
   "source": [
    "np.save('D:\\\\Python LCC data\\\\Keras\\\\modified\\\\m.jpg', img_m)"
   ]
  },
  {
   "cell_type": "code",
   "execution_count": 79,
   "metadata": {},
   "outputs": [],
   "source": [
    "img = np.load('D:\\\\Python LCC data\\\\Keras\\\\modified\\\\m.jpg.npy')"
   ]
  },
  {
   "cell_type": "code",
   "execution_count": 80,
   "metadata": {},
   "outputs": [
    {
     "data": {
      "text/plain": [
       "(120, 70, 4)"
      ]
     },
     "execution_count": 80,
     "metadata": {},
     "output_type": "execute_result"
    }
   ],
   "source": [
    "img.shape"
   ]
  },
  {
   "cell_type": "code",
   "execution_count": 81,
   "metadata": {},
   "outputs": [],
   "source": [
    " path =\"D:\\\\Python LCC data\\\\Keras\\\\modified\""
   ]
  },
  {
   "cell_type": "code",
   "execution_count": 82,
   "metadata": {},
   "outputs": [],
   "source": [
    "for filename in os.listdir(path): \n",
    "        dst =   path+\"\\\\\"+\"m\" + \"\" + \".jpg\"\n",
    "        src =  path +\"\\\\\"+ filename\n",
    "        os.rename(src, dst) "
   ]
  },
  {
   "cell_type": "code",
   "execution_count": null,
   "metadata": {},
   "outputs": [],
   "source": []
  }
 ],
 "metadata": {
  "kernelspec": {
   "display_name": "Python 3",
   "language": "python",
   "name": "python3"
  },
  "language_info": {
   "codemirror_mode": {
    "name": "ipython",
    "version": 3
   },
   "file_extension": ".py",
   "mimetype": "text/x-python",
   "name": "python",
   "nbconvert_exporter": "python",
   "pygments_lexer": "ipython3",
   "version": "3.6.8"
  }
 },
 "nbformat": 4,
 "nbformat_minor": 2
}
